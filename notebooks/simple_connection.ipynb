{
 "cells": [
  {
   "cell_type": "code",
   "execution_count": 1,
   "source": [
    "import elasticsearch"
   ],
   "outputs": [],
   "metadata": {}
  },
  {
   "cell_type": "code",
   "execution_count": 10,
   "source": [
    "es = elasticsearch.Elasticsearch(\n",
    "    hosts=['127.0.0.1'],\n",
    "     http_auth=(\"admin\",\"admin\"),\n",
    "    scheme=\"https\",\n",
    "    port=9200,\n",
    "    verify_certs=False\n",
    ")"
   ],
   "outputs": [],
   "metadata": {}
  },
  {
   "cell_type": "code",
   "execution_count": 11,
   "source": [
    "es.cluster.health()"
   ],
   "outputs": [
    {
     "output_type": "stream",
     "name": "stderr",
     "text": [
      "/home/ricky/VSCODE/private/ANN-DB/opensearch-knn/.venv/lib/python3.7/site-packages/urllib3/connectionpool.py:1020: InsecureRequestWarning: Unverified HTTPS request is being made to host '127.0.0.1'. Adding certificate verification is strongly advised. See: https://urllib3.readthedocs.io/en/1.26.x/advanced-usage.html#ssl-warnings\n",
      "  InsecureRequestWarning,\n"
     ]
    },
    {
     "output_type": "execute_result",
     "data": {
      "text/plain": [
       "{'cluster_name': 'opensearch-cluster',\n",
       " 'status': 'green',\n",
       " 'timed_out': False,\n",
       " 'number_of_nodes': 2,\n",
       " 'number_of_data_nodes': 2,\n",
       " 'discovered_master': True,\n",
       " 'active_primary_shards': 4,\n",
       " 'active_shards': 8,\n",
       " 'relocating_shards': 0,\n",
       " 'initializing_shards': 0,\n",
       " 'unassigned_shards': 0,\n",
       " 'delayed_unassigned_shards': 0,\n",
       " 'number_of_pending_tasks': 0,\n",
       " 'number_of_in_flight_fetch': 0,\n",
       " 'task_max_waiting_in_queue_millis': 0,\n",
       " 'active_shards_percent_as_number': 100.0}"
      ]
     },
     "metadata": {},
     "execution_count": 11
    }
   ],
   "metadata": {}
  }
 ],
 "metadata": {
  "orig_nbformat": 4,
  "language_info": {
   "name": "python",
   "version": "3.7.3",
   "mimetype": "text/x-python",
   "codemirror_mode": {
    "name": "ipython",
    "version": 3
   },
   "pygments_lexer": "ipython3",
   "nbconvert_exporter": "python",
   "file_extension": ".py"
  },
  "kernelspec": {
   "name": "python3",
   "display_name": "Python 3.7.3 64-bit ('.venv': venv)"
  },
  "interpreter": {
   "hash": "c2986ac0c5c86bd51a589c1c2dd635ba88b5b7293496733727aaecd4cb8c19c9"
  }
 },
 "nbformat": 4,
 "nbformat_minor": 2
}