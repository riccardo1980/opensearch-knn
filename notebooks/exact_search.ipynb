{
 "cells": [
  {
   "cell_type": "code",
   "execution_count": 1,
   "metadata": {},
   "outputs": [],
   "source": [
    "import elasticsearch\n",
    "import sys\n",
    "import os\n",
    "\n",
    "import numpy as np\n",
    "\n",
    "from typing import List\n",
    "from elasticsearch import helpers"
   ]
  },
  {
   "cell_type": "code",
   "execution_count": 2,
   "metadata": {},
   "outputs": [],
   "source": [
    "sys.path.append(os.path.join('../'))\n",
    "from simple_opensearch_knn import utils"
   ]
  },
  {
   "cell_type": "markdown",
   "metadata": {},
   "source": [
    "# Connect to cluster"
   ]
  },
  {
   "cell_type": "code",
   "execution_count": 3,
   "metadata": {},
   "outputs": [
    {
     "name": "stderr",
     "output_type": "stream",
     "text": [
      "/home/ricky/VSCODE/private/ANN-DB/opensearch-knn/.venv/lib/python3.7/site-packages/elasticsearch/connection/http_urllib3.py:211: UserWarning: Connecting to https://127.0.0.1:9200 using SSL with verify_certs=False is insecure.\n",
      "  % self.host\n"
     ]
    }
   ],
   "source": [
    "es = elasticsearch.Elasticsearch(\n",
    "    hosts=['127.0.0.1'],\n",
    "     http_auth=(\"admin\",\"admin\"),\n",
    "    scheme=\"https\",\n",
    "    port=9200,\n",
    "    verify_certs=False\n",
    ")"
   ]
  },
  {
   "cell_type": "markdown",
   "metadata": {},
   "source": [
    "# Index creation"
   ]
  },
  {
   "cell_type": "code",
   "execution_count": 4,
   "metadata": {},
   "outputs": [],
   "source": [
    "index_name = \"my-knn-index-1\"\n",
    "body = {\n",
    "  \"settings\": {\n",
    "    \"index\": {\n",
    "      \"knn\": True,\n",
    "      \"knn.algo_param.ef_search\": 100\n",
    "    }\n",
    "  },\n",
    "  \"mappings\": {\n",
    "    \"properties\": {\n",
    "        \"my_embedding\": {\n",
    "          \"type\": \"knn_vector\",\n",
    "          \"dimension\": 4,\n",
    "          \"method\": {\n",
    "            \"name\": \"hnsw\",\n",
    "            \"space_type\": \"cosinesimil\",\n",
    "            \"engine\": \"nmslib\",\n",
    "            \"parameters\": {\n",
    "              \"ef_construction\": 256,\n",
    "              \"m\": 48\n",
    "            }\n",
    "          }\n",
    "        }\n",
    "    }\n",
    "  }\n",
    "}"
   ]
  },
  {
   "cell_type": "code",
   "execution_count": 5,
   "metadata": {},
   "outputs": [
    {
     "name": "stderr",
     "output_type": "stream",
     "text": [
      "/home/ricky/VSCODE/private/ANN-DB/opensearch-knn/.venv/lib/python3.7/site-packages/urllib3/connectionpool.py:1020: InsecureRequestWarning: Unverified HTTPS request is being made to host '127.0.0.1'. Adding certificate verification is strongly advised. See: https://urllib3.readthedocs.io/en/1.26.x/advanced-usage.html#ssl-warnings\n",
      "  InsecureRequestWarning,\n"
     ]
    },
    {
     "data": {
      "text/plain": [
       "{'acknowledged': True, 'shards_acknowledged': True, 'index': 'my-knn-index-1'}"
      ]
     },
     "execution_count": 5,
     "metadata": {},
     "output_type": "execute_result"
    }
   ],
   "source": [
    "es.indices.create(index=index_name, body=body)"
   ]
  },
  {
   "cell_type": "code",
   "execution_count": 6,
   "metadata": {},
   "outputs": [
    {
     "name": "stderr",
     "output_type": "stream",
     "text": [
      "/home/ricky/VSCODE/private/ANN-DB/opensearch-knn/.venv/lib/python3.7/site-packages/urllib3/connectionpool.py:1020: InsecureRequestWarning: Unverified HTTPS request is being made to host '127.0.0.1'. Adding certificate verification is strongly advised. See: https://urllib3.readthedocs.io/en/1.26.x/advanced-usage.html#ssl-warnings\n",
      "  InsecureRequestWarning,\n"
     ]
    },
    {
     "data": {
      "text/plain": [
       "{'my-knn-index-1': {'mappings': {'properties': {'my_embedding': {'type': 'knn_vector',\n",
       "     'dimension': 4,\n",
       "     'method': {'engine': 'nmslib',\n",
       "      'space_type': 'cosinesimil',\n",
       "      'name': 'hnsw',\n",
       "      'parameters': {'ef_construction': 256, 'm': 48}}}}}}}"
      ]
     },
     "execution_count": 6,
     "metadata": {},
     "output_type": "execute_result"
    }
   ],
   "source": [
    "es.indices.get_mapping(index=index_name)"
   ]
  },
  {
   "cell_type": "code",
   "execution_count": 7,
   "metadata": {},
   "outputs": [
    {
     "name": "stderr",
     "output_type": "stream",
     "text": [
      "/home/ricky/VSCODE/private/ANN-DB/opensearch-knn/.venv/lib/python3.7/site-packages/urllib3/connectionpool.py:1020: InsecureRequestWarning: Unverified HTTPS request is being made to host '127.0.0.1'. Adding certificate verification is strongly advised. See: https://urllib3.readthedocs.io/en/1.26.x/advanced-usage.html#ssl-warnings\n",
      "  InsecureRequestWarning,\n"
     ]
    },
    {
     "data": {
      "text/plain": [
       "{'my-knn-index-1': {'settings': {'index': {'number_of_shards': '1',\n",
       "    'knn.algo_param': {'ef_search': '100'},\n",
       "    'provided_name': 'my-knn-index-1',\n",
       "    'knn': 'true',\n",
       "    'creation_date': '1634054581717',\n",
       "    'number_of_replicas': '1',\n",
       "    'uuid': 'AMipUtSvS3K2S9OvQ7vFhA',\n",
       "    'version': {'created': '135217827'}}}}}"
      ]
     },
     "execution_count": 7,
     "metadata": {},
     "output_type": "execute_result"
    }
   ],
   "source": [
    "es.indices.get_settings(index=index_name)"
   ]
  },
  {
   "cell_type": "markdown",
   "metadata": {},
   "source": [
    "# Document insert"
   ]
  },
  {
   "cell_type": "code",
   "execution_count": 8,
   "metadata": {},
   "outputs": [],
   "source": [
    "keys = ['foo', 'bar', 'baz']\n",
    "embedding_len = 4\n",
    "np.random.seed(42)\n",
    "embeddings = np.random.randn(len(keys), embedding_len)"
   ]
  },
  {
   "cell_type": "code",
   "execution_count": 9,
   "metadata": {},
   "outputs": [],
   "source": [
    "def gendata(index_name: str, keys: List[str], embeddings: np.ndarray):\n",
    "    for k,e in zip(keys, embeddings):\n",
    "        yield {\n",
    "            \"_index\": index_name,\n",
    "            \"my_key\": k,\n",
    "            \"my_embedding\": e\n",
    "        }"
   ]
  },
  {
   "cell_type": "code",
   "execution_count": 10,
   "metadata": {},
   "outputs": [
    {
     "name": "stderr",
     "output_type": "stream",
     "text": [
      "/home/ricky/VSCODE/private/ANN-DB/opensearch-knn/.venv/lib/python3.7/site-packages/urllib3/connectionpool.py:1020: InsecureRequestWarning: Unverified HTTPS request is being made to host '127.0.0.1'. Adding certificate verification is strongly advised. See: https://urllib3.readthedocs.io/en/1.26.x/advanced-usage.html#ssl-warnings\n",
      "  InsecureRequestWarning,\n"
     ]
    },
    {
     "data": {
      "text/plain": [
       "(3, [])"
      ]
     },
     "execution_count": 10,
     "metadata": {},
     "output_type": "execute_result"
    }
   ],
   "source": [
    "helpers.bulk(es, gendata(index_name=index_name, keys=keys, embeddings=embeddings))"
   ]
  },
  {
   "cell_type": "markdown",
   "metadata": {},
   "source": [
    "# Force an index refresh"
   ]
  },
  {
   "cell_type": "code",
   "execution_count": 17,
   "metadata": {},
   "outputs": [
    {
     "name": "stderr",
     "output_type": "stream",
     "text": [
      "/home/ricky/VSCODE/private/ANN-DB/opensearch-knn/.venv/lib/python3.7/site-packages/urllib3/connectionpool.py:1020: InsecureRequestWarning: Unverified HTTPS request is being made to host '127.0.0.1'. Adding certificate verification is strongly advised. See: https://urllib3.readthedocs.io/en/1.26.x/advanced-usage.html#ssl-warnings\n",
      "  InsecureRequestWarning,\n"
     ]
    },
    {
     "data": {
      "text/plain": [
       "{'_shards': {'total': 2, 'successful': 2, 'failed': 0}}"
      ]
     },
     "execution_count": 17,
     "metadata": {},
     "output_type": "execute_result"
    }
   ],
   "source": [
    "es.indices.refresh(index_name)"
   ]
  },
  {
   "cell_type": "code",
   "execution_count": 12,
   "metadata": {},
   "outputs": [
    {
     "name": "stderr",
     "output_type": "stream",
     "text": [
      "/home/ricky/VSCODE/private/ANN-DB/opensearch-knn/.venv/lib/python3.7/site-packages/urllib3/connectionpool.py:1020: InsecureRequestWarning: Unverified HTTPS request is being made to host '127.0.0.1'. Adding certificate verification is strongly advised. See: https://urllib3.readthedocs.io/en/1.26.x/advanced-usage.html#ssl-warnings\n",
      "  InsecureRequestWarning,\n"
     ]
    },
    {
     "data": {
      "text/plain": [
       "{'count': 3,\n",
       " '_shards': {'total': 1, 'successful': 1, 'skipped': 0, 'failed': 0}}"
      ]
     },
     "execution_count": 12,
     "metadata": {},
     "output_type": "execute_result"
    }
   ],
   "source": [
    "es.count(index=index_name)"
   ]
  },
  {
   "cell_type": "markdown",
   "metadata": {},
   "source": [
    "# Exact search\n",
    "\n",
    "**WARNING**: OpenSearch *_score* in script is **not** the same as in approximate query results.  \n",
    "Exact search returns: *_score* =  1 + CosineSimilarity"
   ]
  },
  {
   "cell_type": "code",
   "execution_count": 13,
   "metadata": {},
   "outputs": [],
   "source": [
    "query_vector = np.random.randn((4))\n",
    "query_body = {\n",
    " \"size\": 2,\n",
    " \"query\": {\n",
    "   \"script_score\": {\n",
    "     \"query\": {\n",
    "       \"match_all\": {}\n",
    "     },\n",
    "     \"script\": {\n",
    "       \"source\": \"knn_score\",\n",
    "       \"lang\": \"knn\",\n",
    "       \"params\": {\n",
    "         \"field\": \"my_embedding\",\n",
    "         \"query_value\": query_vector,\n",
    "         \"space_type\": \"cosinesimil\"\n",
    "       }\n",
    "     }\n",
    "   }\n",
    " }\n",
    "}"
   ]
  },
  {
   "cell_type": "code",
   "execution_count": 14,
   "metadata": {},
   "outputs": [
    {
     "name": "stderr",
     "output_type": "stream",
     "text": [
      "/home/ricky/VSCODE/private/ANN-DB/opensearch-knn/.venv/lib/python3.7/site-packages/urllib3/connectionpool.py:1020: InsecureRequestWarning: Unverified HTTPS request is being made to host '127.0.0.1'. Adding certificate verification is strongly advised. See: https://urllib3.readthedocs.io/en/1.26.x/advanced-usage.html#ssl-warnings\n",
      "  InsecureRequestWarning,\n"
     ]
    }
   ],
   "source": [
    "res = es.search(index=index_name, body=query_body)"
   ]
  },
  {
   "cell_type": "code",
   "execution_count": 15,
   "metadata": {},
   "outputs": [
    {
     "name": "stdout",
     "output_type": "stream",
     "text": [
      "candidate: baz, score: 0.96489245, true cs: -0.035107546218872486, ES cs: -0.03510754999999999, error: 1.0770127532713271e-07\n",
      "candidate: foo, score: 0.65383184, true cs: -0.3461681657618354, ES cs: -0.34616815999999995, error: 1.6644613870022338e-08\n"
     ]
    }
   ],
   "source": [
    "# sources:\n",
    "# https://opendistro.github.io/for-elasticsearch-docs/docs/knn/knn-score-script/\n",
    "\n",
    "\n",
    "for candidate in res['hits']['hits']:\n",
    "    cv = candidate['_source']['my_embedding']\n",
    "    score = candidate['_score']\n",
    "    # true cosine similarity\n",
    "    cs = utils.cosine_similarity(cv, query_vector)\n",
    "    # cosine similarity, as evaluated from ES score\n",
    "    es_cs = score - 1.0\n",
    "    EE = cs - es_cs\n",
    "    L2_rel = np.linalg.norm(EE) / np.linalg.norm(cs)\n",
    "    print(\n",
    "        'candidate: {}, score: {}, true cs: {}, ES cs: {}, error: {}'.format(\n",
    "            candidate['_source']['my_key'], score, cs, es_cs, L2_rel\n",
    "        )\n",
    "    )"
   ]
  },
  {
   "cell_type": "markdown",
   "metadata": {},
   "source": [
    "# Index delete"
   ]
  },
  {
   "cell_type": "code",
   "execution_count": 18,
   "metadata": {},
   "outputs": [
    {
     "name": "stderr",
     "output_type": "stream",
     "text": [
      "/home/ricky/VSCODE/private/ANN-DB/opensearch-knn/.venv/lib/python3.7/site-packages/urllib3/connectionpool.py:1020: InsecureRequestWarning: Unverified HTTPS request is being made to host '127.0.0.1'. Adding certificate verification is strongly advised. See: https://urllib3.readthedocs.io/en/1.26.x/advanced-usage.html#ssl-warnings\n",
      "  InsecureRequestWarning,\n"
     ]
    },
    {
     "data": {
      "text/plain": [
       "{'acknowledged': True}"
      ]
     },
     "execution_count": 18,
     "metadata": {},
     "output_type": "execute_result"
    }
   ],
   "source": [
    "# es.indices.delete(index=index_name)"
   ]
  },
  {
   "cell_type": "code",
   "execution_count": null,
   "metadata": {},
   "outputs": [],
   "source": []
  }
 ],
 "metadata": {
  "interpreter": {
   "hash": "e68bb23a44fba97009eedfbefa7496df3f51240f8c9a0ea63b86a795df3f663d"
  },
  "kernelspec": {
   "display_name": "Python 3.7.3 64-bit ('.venv': venv)",
   "name": "python3"
  },
  "language_info": {
   "codemirror_mode": {
    "name": "ipython",
    "version": 3
   },
   "file_extension": ".py",
   "mimetype": "text/x-python",
   "name": "python",
   "nbconvert_exporter": "python",
   "pygments_lexer": "ipython3",
   "version": "3.7.3"
  },
  "orig_nbformat": 4
 },
 "nbformat": 4,
 "nbformat_minor": 2
}
