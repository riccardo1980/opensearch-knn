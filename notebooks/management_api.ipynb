{
 "cells": [
  {
   "cell_type": "code",
   "execution_count": 2,
   "source": [
    "import elasticsearch"
   ],
   "outputs": [],
   "metadata": {}
  },
  {
   "cell_type": "code",
   "execution_count": null,
   "source": [
    "es = elasticsearch.Elasticsearch(\n",
    "    hosts=['127.0.0.1'],\n",
    "     http_auth=(\"admin\",\"admin\"),\n",
    "    scheme=\"https\",\n",
    "    port=9200,\n",
    "    verify_certs=False\n",
    ")"
   ],
   "outputs": [],
   "metadata": {}
  }
 ],
 "metadata": {
  "orig_nbformat": 4,
  "language_info": {
   "name": "python",
   "version": "3.7.3",
   "mimetype": "text/x-python",
   "codemirror_mode": {
    "name": "ipython",
    "version": 3
   },
   "pygments_lexer": "ipython3",
   "nbconvert_exporter": "python",
   "file_extension": ".py"
  },
  "kernelspec": {
   "name": "python3",
   "display_name": "Python 3.7.3 64-bit ('.venv': venv)"
  },
  "interpreter": {
   "hash": "c2986ac0c5c86bd51a589c1c2dd635ba88b5b7293496733727aaecd4cb8c19c9"
  }
 },
 "nbformat": 4,
 "nbformat_minor": 2
}